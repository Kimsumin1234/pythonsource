{
 "cells": [
  {
   "cell_type": "code",
   "execution_count": 1,
   "metadata": {},
   "outputs": [
    {
     "name": "stdout",
     "output_type": "stream",
     "text": [
      "3.45.1\n",
      "2024-05-20 09:44:23.071038\n"
     ]
    }
   ],
   "source": [
    "import sqlite3\n",
    "from datetime import datetime\n",
    "\n",
    "print(sqlite3.sqlite_version) # SQLite 버전 확인\n",
    "print(datetime.now()) # 현재 시간 날짜"
   ]
  },
  {
   "cell_type": "code",
   "execution_count": 2,
   "metadata": {},
   "outputs": [
    {
     "data": {
      "text/plain": [
       "'2024-05-20, 09:46:24'"
      ]
     },
     "execution_count": 2,
     "metadata": {},
     "output_type": "execute_result"
    }
   ],
   "source": [
    "now =datetime.now()\n",
    "now.strftime(\"%Y-%m-%d, %H:%M:%S\")"
   ]
  },
  {
   "cell_type": "code",
   "execution_count": 3,
   "metadata": {},
   "outputs": [],
   "source": [
    "# database 생성\n",
    "# isolation_level : autocommit 여부\n",
    "\n",
    "conn = sqlite3.connect(\"./database/test.db\",isolation_level=None)"
   ]
  },
  {
   "cell_type": "code",
   "execution_count": 4,
   "metadata": {},
   "outputs": [
    {
     "data": {
      "text/plain": [
       "<sqlite3.Cursor at 0x277b4a531c0>"
      ]
     },
     "execution_count": 4,
     "metadata": {},
     "output_type": "execute_result"
    }
   ],
   "source": [
    "# 커서(cursor) : DB 를 가르키는 포인터 같은 역할\n",
    "\n",
    "cursor = conn.cursor()\n",
    "\n",
    "# 테이블 생성구문 SQLite 로 확인 가능 (파일 => 데이터베이스 열기 => test.db)\n",
    "# 숫자 : integer 타입, 문자 : text 타입\n",
    "cursor.execute(\"CREATE TABLE IF NOT EXISTS users(id integer primary key, username text, email text, phone text, website text, regdate text)\")"
   ]
  },
  {
   "cell_type": "code",
   "execution_count": 5,
   "metadata": {},
   "outputs": [
    {
     "data": {
      "text/plain": [
       "<sqlite3.Cursor at 0x277b4a531c0>"
      ]
     },
     "execution_count": 5,
     "metadata": {},
     "output_type": "execute_result"
    }
   ],
   "source": [
    "# 데이터 삽입\n",
    "now = datetime.now()\n",
    "now_date_time = now.strftime(\"%Y-%m-%d, %H:%M:%S\")\n",
    "\n",
    "cursor.execute(\"INSERT INTO users(id, username, email, phone, website, regdate) VALUES(1, 'Kim', 'Kim@naver.com', '010-1234-1234', 'kim.com',?)\",(now_date_time,))"
   ]
  },
  {
   "cell_type": "code",
   "execution_count": 7,
   "metadata": {},
   "outputs": [
    {
     "data": {
      "text/plain": [
       "<sqlite3.Cursor at 0x277b4a531c0>"
      ]
     },
     "execution_count": 7,
     "metadata": {},
     "output_type": "execute_result"
    }
   ],
   "source": [
    "now = datetime.now()\n",
    "now_date_time = now.strftime(\"%Y-%m-%d, %H:%M:%S\")\n",
    "\n",
    "cursor.execute(\"INSERT INTO users(id, username, email, phone, website, regdate) \"\n",
    "               \"VALUES(?,?,?,?,?,?)\", (2, 'Park', 'Park@naver.com', '010-1234-4567', 'Park.com',now_date_time))"
   ]
  },
  {
   "cell_type": "code",
   "execution_count": 8,
   "metadata": {},
   "outputs": [
    {
     "data": {
      "text/plain": [
       "<sqlite3.Cursor at 0x277b4a531c0>"
      ]
     },
     "execution_count": 8,
     "metadata": {},
     "output_type": "execute_result"
    }
   ],
   "source": [
    "# 여러개 삽입\n",
    "\n",
    "now = datetime.now()\n",
    "now_date_time = now.strftime(\"%Y-%m-%d, %H:%M:%S\")\n",
    "\n",
    "userList = (\n",
    "    (3, 'Lee', 'Lee@naver.com', '010-1234-4567', 'Lee.com',now_date_time),\n",
    "    (4, 'Choi', 'Choi@naver.com', '010-1234-4567', 'Choi.com',now_date_time),\n",
    "    (5, 'Yoo', 'Yoo@naver.com', '010-1234-4567', 'Yoo.com',now_date_time)\n",
    ")\n",
    "\n",
    "cursor.executemany(\"INSERT INTO users(id, username, email, phone, website, regdate) VALUES(?,?,?,?,?,?)\", userList)"
   ]
  },
  {
   "cell_type": "code",
   "execution_count": 13,
   "metadata": {},
   "outputs": [
    {
     "data": {
      "text/plain": [
       "<sqlite3.Cursor at 0x277b4a531c0>"
      ]
     },
     "execution_count": 13,
     "metadata": {},
     "output_type": "execute_result"
    }
   ],
   "source": [
    "# 데이터 조회\n",
    "# 커서가 users 를 가르키게 됨\n",
    "cursor.execute(\"SELECT * FROM users\")"
   ]
  },
  {
   "cell_type": "code",
   "execution_count": 14,
   "metadata": {},
   "outputs": [
    {
     "data": {
      "text/plain": [
       "(1, 'Kim', 'Kim@naver.com', '010-1234-1234', 'kim.com', '2024-05-20, 10:00:21')"
      ]
     },
     "execution_count": 14,
     "metadata": {},
     "output_type": "execute_result"
    }
   ],
   "source": [
    "cursor.fetchone()"
   ]
  },
  {
   "cell_type": "code",
   "execution_count": 15,
   "metadata": {},
   "outputs": [
    {
     "data": {
      "text/plain": [
       "[(2,\n",
       "  'Park',\n",
       "  'Park@naver.com',\n",
       "  '010-1234-4567',\n",
       "  'Park.com',\n",
       "  '2024-05-20, 10:04:14'),\n",
       " (3,\n",
       "  'Lee',\n",
       "  'Lee@naver.com',\n",
       "  '010-1234-4567',\n",
       "  'Lee.com',\n",
       "  '2024-05-20, 10:06:33'),\n",
       " (4,\n",
       "  'Choi',\n",
       "  'Choi@naver.com',\n",
       "  '010-1234-4567',\n",
       "  'Choi.com',\n",
       "  '2024-05-20, 10:06:33')]"
      ]
     },
     "execution_count": 15,
     "metadata": {},
     "output_type": "execute_result"
    }
   ],
   "source": [
    "cursor.fetchmany(size=3)"
   ]
  },
  {
   "cell_type": "code",
   "execution_count": 17,
   "metadata": {},
   "outputs": [
    {
     "data": {
      "text/plain": [
       "[]"
      ]
     },
     "execution_count": 17,
     "metadata": {},
     "output_type": "execute_result"
    }
   ],
   "source": [
    "cursor.fetchall()"
   ]
  },
  {
   "cell_type": "code",
   "execution_count": 18,
   "metadata": {},
   "outputs": [
    {
     "name": "stdout",
     "output_type": "stream",
     "text": [
      "(1, 'Kim', 'Kim@naver.com', '010-1234-1234', 'kim.com', '2024-05-20, 10:00:21')\n",
      "(2, 'Park', 'Park@naver.com', '010-1234-4567', 'Park.com', '2024-05-20, 10:04:14')\n",
      "(3, 'Lee', 'Lee@naver.com', '010-1234-4567', 'Lee.com', '2024-05-20, 10:06:33')\n",
      "(4, 'Choi', 'Choi@naver.com', '010-1234-4567', 'Choi.com', '2024-05-20, 10:06:33')\n",
      "(5, 'Yoo', 'Yoo@naver.com', '010-1234-4567', 'Yoo.com', '2024-05-20, 10:06:33')\n"
     ]
    }
   ],
   "source": [
    "cursor.execute(\"SELECT * FROM users\")\n",
    "for c in cursor.fetchall():\n",
    "    print(c)"
   ]
  },
  {
   "cell_type": "code",
   "execution_count": 19,
   "metadata": {},
   "outputs": [
    {
     "name": "stdout",
     "output_type": "stream",
     "text": [
      "(5, 'Yoo', 'Yoo@naver.com', '010-1234-4567', 'Yoo.com', '2024-05-20, 10:06:33')\n",
      "(4, 'Choi', 'Choi@naver.com', '010-1234-4567', 'Choi.com', '2024-05-20, 10:06:33')\n",
      "(3, 'Lee', 'Lee@naver.com', '010-1234-4567', 'Lee.com', '2024-05-20, 10:06:33')\n",
      "(2, 'Park', 'Park@naver.com', '010-1234-4567', 'Park.com', '2024-05-20, 10:04:14')\n",
      "(1, 'Kim', 'Kim@naver.com', '010-1234-1234', 'kim.com', '2024-05-20, 10:00:21')\n"
     ]
    }
   ],
   "source": [
    "cursor.execute(\"SELECT * FROM users ORDER BY id DESC\")\n",
    "for c in cursor.fetchall():\n",
    "    print(c)"
   ]
  },
  {
   "cell_type": "code",
   "execution_count": 20,
   "metadata": {},
   "outputs": [
    {
     "data": {
      "text/plain": [
       "(3, 'Lee', 'Lee@naver.com', '010-1234-4567', 'Lee.com', '2024-05-20, 10:06:33')"
      ]
     },
     "execution_count": 20,
     "metadata": {},
     "output_type": "execute_result"
    }
   ],
   "source": [
    "cursor.execute(\"SELECT * FROM users WHERE id=3\")\n",
    "cursor.fetchone()"
   ]
  },
  {
   "cell_type": "code",
   "execution_count": 21,
   "metadata": {},
   "outputs": [
    {
     "data": {
      "text/plain": [
       "(4,\n",
       " 'Choi',\n",
       " 'Choi@naver.com',\n",
       " '010-1234-4567',\n",
       " 'Choi.com',\n",
       " '2024-05-20, 10:06:33')"
      ]
     },
     "execution_count": 21,
     "metadata": {},
     "output_type": "execute_result"
    }
   ],
   "source": [
    "param = (4,)\n",
    "cursor.execute(\"SELECT * FROM users WHERE id=?\",param)\n",
    "cursor.fetchone()"
   ]
  },
  {
   "cell_type": "code",
   "execution_count": 22,
   "metadata": {},
   "outputs": [
    {
     "data": {
      "text/plain": [
       "(2,\n",
       " 'Park',\n",
       " 'Park@naver.com',\n",
       " '010-1234-4567',\n",
       " 'Park.com',\n",
       " '2024-05-20, 10:04:14')"
      ]
     },
     "execution_count": 22,
     "metadata": {},
     "output_type": "execute_result"
    }
   ],
   "source": [
    "param = 2\n",
    "cursor.execute(\"SELECT * FROM users WHERE id=%s\" % param)\n",
    "cursor.fetchone()"
   ]
  },
  {
   "cell_type": "code",
   "execution_count": 23,
   "metadata": {},
   "outputs": [
    {
     "data": {
      "text/plain": [
       "(5, 'Yoo', 'Yoo@naver.com', '010-1234-4567', 'Yoo.com', '2024-05-20, 10:06:33')"
      ]
     },
     "execution_count": 23,
     "metadata": {},
     "output_type": "execute_result"
    }
   ],
   "source": [
    "cursor.execute(\"SELECT * FROM users WHERE id = :id\", {\"id\":5})\n",
    "cursor.fetchone()"
   ]
  },
  {
   "cell_type": "code",
   "execution_count": 24,
   "metadata": {},
   "outputs": [
    {
     "data": {
      "text/plain": [
       "[(2,\n",
       "  'Park',\n",
       "  'Park@naver.com',\n",
       "  '010-1234-4567',\n",
       "  'Park.com',\n",
       "  '2024-05-20, 10:04:14'),\n",
       " (4,\n",
       "  'Choi',\n",
       "  'Choi@naver.com',\n",
       "  '010-1234-4567',\n",
       "  'Choi.com',\n",
       "  '2024-05-20, 10:06:33')]"
      ]
     },
     "execution_count": 24,
     "metadata": {},
     "output_type": "execute_result"
    }
   ],
   "source": [
    "param = (2,4)\n",
    "cursor.execute(\"SELECT * FROM users WHERE id IN (?,?)\",param)\n",
    "cursor.fetchmany(size=2)"
   ]
  },
  {
   "cell_type": "code",
   "execution_count": 25,
   "metadata": {},
   "outputs": [],
   "source": [
    "# 데이터 수정\n",
    "# id = 2 인 사용자의 핸드폰 번호 변경\n",
    "\n",
    "param = (\"010-7890-1258\",2)\n",
    "cursor.execute(\"UPDATE users SET phone = ? WHERE id = ?\",param)\n",
    "conn.commit() # isolation_level=None : 오토커밋을 안해놔서 커밋을 해준다\n"
   ]
  },
  {
   "cell_type": "code",
   "execution_count": 26,
   "metadata": {},
   "outputs": [],
   "source": [
    "# 데이터 삭제\n",
    "\n",
    "cursor.execute(\"DELETE FROM users WHERE id = ?\", (2,))\n",
    "conn.commit()"
   ]
  },
  {
   "cell_type": "code",
   "execution_count": 27,
   "metadata": {},
   "outputs": [
    {
     "name": "stdout",
     "output_type": "stream",
     "text": [
      "4\n"
     ]
    }
   ],
   "source": [
    "# rowcount : 삭제된 행의 수 리턴\n",
    "print(cursor.execute(\"DELETE FROM users\").rowcount)\n",
    "conn.commit()"
   ]
  },
  {
   "cell_type": "code",
   "execution_count": 28,
   "metadata": {},
   "outputs": [],
   "source": [
    "import random\n",
    "import time"
   ]
  },
  {
   "cell_type": "code",
   "execution_count": 33,
   "metadata": {},
   "outputs": [],
   "source": [
    "# word.txt 단어를 읽은 후 리스트에 추가하기\n",
    "words = []\n",
    "with open(\"./resource/word.txt\",\"r\") as f:\n",
    "    for w in f:\n",
    "        # print(w, end=\"\")\n",
    "        words.append(w.strip())"
   ]
  },
  {
   "cell_type": "code",
   "execution_count": 45,
   "metadata": {},
   "outputs": [
    {
     "name": "stdout",
     "output_type": "stream",
     "text": [
      "Question #1\n",
      "wv\n",
      "Pass !!!\n",
      "Question #2\n",
      "sites\n",
      "Pass !!!\n",
      "Question #3\n",
      "unlikely\n",
      "Pass !!!\n",
      "Question #4\n",
      "moreover\n",
      "Pass !!!\n",
      "Question #5\n",
      "connections\n",
      "Wrong !!!\n",
      "걸린시간 : 16.807838439941406초 , 정답개수 : 4개\n",
      "합격\n"
     ]
    },
    {
     "data": {
      "text/plain": [
       "<sqlite3.Cursor at 0x277b4a531c0>"
      ]
     },
     "execution_count": 45,
     "metadata": {},
     "output_type": "execute_result"
    }
   ],
   "source": [
    "input(\"Ready? press enter key\")\n",
    "start = time.time() # 시작시간\n",
    "n = 1 # 시도횟수\n",
    "cor_cnt = 0 # 정답개수\n",
    "\n",
    "while n <= 5:\n",
    "    # 리스트 요소 임의로 섞기\n",
    "    # key = random.sample(words,k=1)\n",
    "    random.shuffle(words)\n",
    "\n",
    "    # 무작위로 하나만 추출\n",
    "    q = random.choice(words)\n",
    "\n",
    "    # 추출한 요소 보여주기\n",
    "    print(f\"Question #{n}\")\n",
    "    print(q)\n",
    "\n",
    "    # 사용자로부터 타이핑 입력받기\n",
    "    # str1 = input(f\"{key} 를 따라서 입력하시오.\")\n",
    "    answer = input()\n",
    "    # 추출된 요소 == 타이핑 값(정확히 타자 친 개수에 추가)\n",
    "    # if key == str1:\n",
    "    #     a += 1\n",
    "    if str(q).strip() == str(answer).strip():\n",
    "        print(\"Pass !!!\")\n",
    "        cor_cnt += 1 # 정답개수 추가\n",
    "    else:\n",
    "        print(\"Wrong !!!\")\n",
    "    n += 1 # 시도횟수 추가\n",
    "\n",
    "# 끝난시간\n",
    "end = time.time()\n",
    "\n",
    "# 걸린시간 과 정답개수 출력\n",
    "time1 = end - start\n",
    "print(f\"걸린시간 : {time1}초 , 정답개수 : {cor_cnt}개\")\n",
    "\n",
    "# 정답개수가 4개이상인 경우 합격, 불합격\n",
    "if cor_cnt >= 4:\n",
    "    print(\"합격\")\n",
    "else:\n",
    "    print(\"불합격\")\n",
    "\n",
    "# 테이블에 저장 (test.db)\n",
    "# 테이블명 records\n",
    "# 컬럼명 정답개수, 걸린시간, 날짜\n",
    "conn = sqlite3.connect(\"./database/test.db\",isolation_level=None)\n",
    "cursor.execute(\"CREATE TABLE IF NOT EXISTS records(cor_cnt integer, record text, regdate text)\")\n",
    "\n",
    "now = datetime.now()\n",
    "now_date_time = now.strftime(\"%Y-%m-%d %H:%M:%S\")\n",
    "\n",
    "cursor.execute(\"INSERT INTO records(cor_cnt, record, regdate) \"\n",
    "               \"VALUES(?,?,?)\", (cor_cnt,time1,now_date_time))\n"
   ]
  },
  {
   "cell_type": "code",
   "execution_count": null,
   "metadata": {},
   "outputs": [],
   "source": []
  }
 ],
 "metadata": {
  "kernelspec": {
   "display_name": "venv",
   "language": "python",
   "name": "python3"
  },
  "language_info": {
   "codemirror_mode": {
    "name": "ipython",
    "version": 3
   },
   "file_extension": ".py",
   "mimetype": "text/x-python",
   "name": "python",
   "nbconvert_exporter": "python",
   "pygments_lexer": "ipython3",
   "version": "3.12.3"
  }
 },
 "nbformat": 4,
 "nbformat_minor": 2
}
