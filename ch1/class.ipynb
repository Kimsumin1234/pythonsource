{
 "cells": [
  {
   "cell_type": "code",
   "execution_count": 1,
   "metadata": {},
   "outputs": [
    {
     "name": "stdout",
     "output_type": "stream",
     "text": [
      "이름 : Kim, 학번 : 1, 학년 : 1, 학생정보 : [{'gender': 'male'}, {'score1': 95}, {'score2': 88}]\n"
     ]
    }
   ],
   "source": [
    "# 3명의 학생 정보 입력한 후 출력\n",
    "# 변수, 리스트, 딕셔너리 에 정보를 담는다면\n",
    "student_name1 = \"Kim\"\n",
    "student_number1 = 1\n",
    "student_grade1 = 1\n",
    "student_datail1 = [\n",
    "    {\"gender\" : \"male\"},\n",
    "    {\"score1\" : 95},\n",
    "    {\"score2\" : 88}\n",
    "]\n",
    "print(f\"이름 : {student_name1}, 학번 : {student_number1}, 학년 : {student_grade1}, 학생정보 : {student_datail1}\")"
   ]
  },
  {
   "cell_type": "code",
   "execution_count": 2,
   "metadata": {},
   "outputs": [],
   "source": [
    "# 파이썬도 클래스가 있긴 하지만 크롤링 방법을 많이 사용한다\n",
    "# 파이썬 클래스 기본 모양\n",
    "# __init__ : 자바에서 생성자 개념\n",
    "# __str__ : 자바에서 toString 개념\n",
    "# self : 꼭 필요함 (자바에서 this 개념)\n",
    "# class Student: 괄호 생략 가능\n",
    "class Student():\n",
    "    def __init__(self,name,number,grade,datails) -> None:\n",
    "        self.name = name\n",
    "        self.number = number\n",
    "        self.grade = grade\n",
    "        self.datails = datails\n",
    "\n",
    "    def __str__(self) -> str:\n",
    "        return \"{}\".format(self.name)"
   ]
  },
  {
   "cell_type": "code",
   "execution_count": 3,
   "metadata": {},
   "outputs": [],
   "source": [
    "# 객체 생성\n",
    "student1 = Student(name=\"Kim\",number=1,grade=1,datails={\"gender\":\"male\", \"score1\":95, \"score2\":88})\n",
    "student2 = Student(\"Park\",1,2,{\"gender\":\"female\", \"score1\":92, \"score2\":93})\n",
    "student3 = Student(name=\"Choi\",number=1,grade=3,datails={\"gender\":\"male\", \"score1\":87, \"score2\":83})"
   ]
  },
  {
   "cell_type": "code",
   "execution_count": 4,
   "metadata": {},
   "outputs": [
    {
     "name": "stdout",
     "output_type": "stream",
     "text": [
      "{'name': 'Kim', 'number': 1, 'grade': 1, 'datails': {'gender': 'male', 'score1': 95, 'score2': 88}}\n",
      "{'name': 'Park', 'number': 1, 'grade': 2, 'datails': {'gender': 'female', 'score1': 92, 'score2': 93}}\n",
      "{'name': 'Choi', 'number': 1, 'grade': 3, 'datails': {'gender': 'male', 'score1': 87, 'score2': 83}}\n"
     ]
    }
   ],
   "source": [
    "# 객체 호출\n",
    "print(student1.__dict__)\n",
    "print(student2.__dict__)\n",
    "print(student3.__dict__)"
   ]
  },
  {
   "cell_type": "code",
   "execution_count": 5,
   "metadata": {},
   "outputs": [
    {
     "name": "stdout",
     "output_type": "stream",
     "text": [
      "Kim\n",
      "Park\n",
      "Choi\n"
     ]
    }
   ],
   "source": [
    "# def __str__(self) -> str: 여기에 정의한걸 리턴해준다\n",
    "print(student1)\n",
    "print(student2)\n",
    "print(student3)"
   ]
  },
  {
   "cell_type": "code",
   "execution_count": 6,
   "metadata": {},
   "outputs": [
    {
     "name": "stdout",
     "output_type": "stream",
     "text": [
      "메소드 실행\n"
     ]
    }
   ],
   "source": [
    "class UserInfo():\n",
    "    def user_info(self):\n",
    "        print(\"메소드 실행\")\n",
    "\n",
    "user1 = UserInfo()\n",
    "user1.user_info()"
   ]
  },
  {
   "cell_type": "code",
   "execution_count": 8,
   "metadata": {},
   "outputs": [
    {
     "name": "stdout",
     "output_type": "stream",
     "text": [
      "{'speed': 110, 'color': 'red'}\n",
      "{'speed': 30, 'color': 'blue'}\n",
      "{'speed': 50, 'color': 'white'}\n"
     ]
    }
   ],
   "source": [
    "class Car1():\n",
    "    # 기본값 선언\n",
    "    color, speed = \"\",0\n",
    "\n",
    "    def up_speed(self, value):\n",
    "        self.speed += value\n",
    "\n",
    "    def down_speed(self, value):\n",
    "        self.speed -= value\n",
    "\n",
    "car1 = Car1()\n",
    "car1.speed = 100\n",
    "car1.color = \"red\"\n",
    "car1.up_speed(10)\n",
    "\n",
    "car2 = Car1()\n",
    "car2.speed = 80\n",
    "car2.color = \"blue\"\n",
    "car2.down_speed(50)\n",
    "\n",
    "car3 = Car1()\n",
    "car3.speed = 50\n",
    "car3.color = \"white\"\n",
    "\n",
    "print(car1.__dict__)\n",
    "print(car2.__dict__)\n",
    "print(car3.__dict__)"
   ]
  },
  {
   "cell_type": "code",
   "execution_count": 9,
   "metadata": {},
   "outputs": [],
   "source": [
    "class Car2():\n",
    "    # 기본값 선언\n",
    "    def __init__(self) -> None:\n",
    "        self.color = \"\"\n",
    "        self.speed = 0\n",
    "\n",
    "    def up_speed(self, value):\n",
    "        self.speed += value\n",
    "\n",
    "    def down_speed(self, value):\n",
    "        self.speed -= value"
   ]
  },
  {
   "cell_type": "code",
   "execution_count": 15,
   "metadata": {},
   "outputs": [],
   "source": [
    "class UserInfo2():\n",
    "\n",
    "    user_count = 0\n",
    "\n",
    "    def __init__(self,name,age) -> None:\n",
    "        self.name = name\n",
    "        self.age = age\n",
    "        UserInfo2.user_count += 1 # 자바에서 선언한 static 클래스 변수 개념\n",
    "\n",
    "    def user_info(self):\n",
    "        return f\"name : {self.name}, age : {self.age}\"\n",
    "    \n",
    "    def function1():\n",
    "        print(\"function1 called\")"
   ]
  },
  {
   "cell_type": "code",
   "execution_count": 16,
   "metadata": {},
   "outputs": [
    {
     "name": "stdout",
     "output_type": "stream",
     "text": [
      "name : 김철수, age : 30\n",
      "name : 김영희, age : 25\n"
     ]
    }
   ],
   "source": [
    "# 객체 생성\n",
    "user1 = UserInfo2(\"김철수\",30)\n",
    "user2 = UserInfo2(\"김영희\",25)\n",
    "# 객체 출력\n",
    "print(user1.user_info())\n",
    "print(user2.user_info())"
   ]
  },
  {
   "cell_type": "code",
   "execution_count": 17,
   "metadata": {},
   "outputs": [
    {
     "data": {
      "text/plain": [
       "2"
      ]
     },
     "execution_count": 17,
     "metadata": {},
     "output_type": "execute_result"
    }
   ],
   "source": [
    "# 자바에서 선언한 static 클래스 변수 개념\n",
    "UserInfo2.user_count"
   ]
  },
  {
   "cell_type": "code",
   "execution_count": 19,
   "metadata": {},
   "outputs": [
    {
     "name": "stdout",
     "output_type": "stream",
     "text": [
      "function1 called\n"
     ]
    }
   ],
   "source": [
    "# user1.function1() # UserInfo2.function1() : self 가 없으면 이런 형태로 불러야함 (self 없이 작성된 메소드는 클래스 메소드)\n",
    "UserInfo2.function1()"
   ]
  },
  {
   "cell_type": "code",
   "execution_count": 22,
   "metadata": {},
   "outputs": [],
   "source": [
    "class UserInfo3():\n",
    "\n",
    "    user_count = 0\n",
    "\n",
    "    # email=None : email 이 안들어올 경우 기본값을 세팅해준다\n",
    "    def __init__(self,name,age,email=None) -> None:\n",
    "        self.name = name\n",
    "        self.age = age\n",
    "        self.email = email\n",
    "\n",
    "    def user_info(self):\n",
    "        return f\"name : {self.name}, age : {self.age}, email : {self.email}\""
   ]
  },
  {
   "cell_type": "code",
   "execution_count": 23,
   "metadata": {},
   "outputs": [],
   "source": [
    "# 객체 생성시 email 은 필수가 아닌 경우 => 자바의 생성자 오버로딩 개념은 없음\n",
    "user1 = UserInfo3(name=\"홍길동\",age=30)\n",
    "user2 = UserInfo3(name=\"성춘향\",age=30,email=\"sung@naver.com\")"
   ]
  },
  {
   "cell_type": "code",
   "execution_count": 24,
   "metadata": {},
   "outputs": [
    {
     "name": "stdout",
     "output_type": "stream",
     "text": [
      "name : 홍길동, age : 30, email : None\n",
      "name : 성춘향, age : 30, email : sung@naver.com\n"
     ]
    }
   ],
   "source": [
    "print(user1.user_info())\n",
    "print(user2.user_info())"
   ]
  },
  {
   "cell_type": "code",
   "execution_count": 25,
   "metadata": {},
   "outputs": [],
   "source": [
    "#  __init__ : num1, num2\n",
    "# add(), sub(), mul(), div()\n",
    "class FourCal():\n",
    "    def __init__(self,num1=0,num2=0) -> None:\n",
    "        self.num1 = num1\n",
    "        self.num2 = num2\n",
    "\n",
    "    def add(self):\n",
    "        return self.num1 + self.num2\n",
    "    \n",
    "    def sub(self):\n",
    "        return self.num1 - self.num2\n",
    "    \n",
    "    def mul(self):\n",
    "        return self.num1 * self.num2\n",
    "    \n",
    "    def div(self):\n",
    "        return self.num1 / self.num2"
   ]
  },
  {
   "cell_type": "code",
   "execution_count": 31,
   "metadata": {},
   "outputs": [],
   "source": [
    "num1,num2 = 10,5\n",
    "four1 = FourCal(num1,num2)"
   ]
  },
  {
   "cell_type": "code",
   "execution_count": 32,
   "metadata": {},
   "outputs": [
    {
     "name": "stdout",
     "output_type": "stream",
     "text": [
      "10 + 5 = 15\n",
      "10 - 5 = 5\n",
      "10 * 5 = 50\n",
      "10 / 5 = 2.0\n"
     ]
    }
   ],
   "source": [
    "print(f\"{num1} + {num2} = {four1.add()}\")\n",
    "print(f\"{num1} - {num2} = {four1.sub()}\")\n",
    "print(f\"{num1} * {num2} = {four1.mul()}\")\n",
    "print(f\"{num1} / {num2} = {four1.div()}\")"
   ]
  },
  {
   "cell_type": "code",
   "execution_count": 33,
   "metadata": {},
   "outputs": [],
   "source": [
    "# 파이썬에서 상속\n",
    "class Parent:\n",
    "    def __init__(self) -> None:\n",
    "        self.value = \"테스트\"\n",
    "        print(\"Parent 생성자 호출\")\n",
    "\n",
    "    def test(self):\n",
    "        print(\"Parent test 메소드 호출\")\n",
    "\n",
    "class Child(Parent):\n",
    "    def __init__(self) -> None:\n",
    "        super().__init__()\n",
    "        print(\"Child 생성자 호출\")"
   ]
  },
  {
   "cell_type": "code",
   "execution_count": 34,
   "metadata": {},
   "outputs": [
    {
     "name": "stdout",
     "output_type": "stream",
     "text": [
      "Parent 생성자 호출\n",
      "Child 생성자 호출\n",
      "테스트\n",
      "Parent test 메소드 호출\n"
     ]
    }
   ],
   "source": [
    "child = Child() # 자식객체를 생성하면 print(\"Parent 생성자 호출\") 부모 생성자 생성후 print(\"Child 생성자 호출\") 자식 생성자 생성\n",
    "print(child.value)\n",
    "child.test()"
   ]
  },
  {
   "cell_type": "code",
   "execution_count": 35,
   "metadata": {},
   "outputs": [],
   "source": [
    "# 오버라이딩\n",
    "\n",
    "class Parent:\n",
    "    def function1(self):\n",
    "        print(\"Parent function1()\")\n",
    "\n",
    "    def function2(self):\n",
    "        print(\"Parent function2()\")\n",
    "\n",
    "class Child(Parent):\n",
    "    def function1(self):\n",
    "        print(\"Child function1()\")\n",
    "\n",
    "    def function3(self):\n",
    "        print(\"Child function3()\")"
   ]
  },
  {
   "cell_type": "code",
   "execution_count": 36,
   "metadata": {},
   "outputs": [
    {
     "name": "stdout",
     "output_type": "stream",
     "text": [
      "Parent function1()\n",
      "Child function1()\n",
      "Parent function2()\n",
      "Child function3()\n"
     ]
    }
   ],
   "source": [
    "parent, child = Parent(), Child()\n",
    "\n",
    "parent.function1()\n",
    "child.function1() # 오버라이딩\n",
    "child.function2()\n",
    "child.function3()"
   ]
  },
  {
   "cell_type": "code",
   "execution_count": 40,
   "metadata": {},
   "outputs": [
    {
     "name": "stdout",
     "output_type": "stream",
     "text": [
      "__radius :  10\n",
      "원 둘레 :  62.83185307179586\n",
      "원 면적 :  314.1592653589793\n"
     ]
    }
   ],
   "source": [
    "import math\n",
    "\n",
    "class Circle():\n",
    "    def __init__(self,radius) -> None:\n",
    "        self.__radius = radius # __ : 자바의 private 개념\n",
    "\n",
    "    def get__circumereence(self):\n",
    "        return 2 * math.pi * self.__radius\n",
    "    \n",
    "    def get_circle_area(self):\n",
    "        return math.pi * (self.__radius ** 2)\n",
    "    \n",
    "    # getter , setter\n",
    "    def get_radius(self):\n",
    "        return self.__radius\n",
    "    \n",
    "    def set_radius(self,radius):\n",
    "        self.__radius = radius\n",
    "\n",
    "circle = Circle(10)\n",
    "# print(\"__radius : \",circle.__radius) # __ : 자바의 private 개념 (바깥에서 직접적으로 부를수 없음, getter , setter 같은걸 사용해야함)\n",
    "print(\"__radius : \",circle.get_radius())\n",
    "print(\"원 둘레 : \",circle.get__circumereence())\n",
    "print(\"원 면적 : \",circle.get_circle_area())"
   ]
  },
  {
   "cell_type": "code",
   "execution_count": null,
   "metadata": {},
   "outputs": [],
   "source": [
    "# 파이썬 으로 웹 개발시 DJango 프레임워크(클래스 기반) 랑 같이 사용한다 ex) 인스타그램"
   ]
  }
 ],
 "metadata": {
  "kernelspec": {
   "display_name": "venv",
   "language": "python",
   "name": "python3"
  },
  "language_info": {
   "codemirror_mode": {
    "name": "ipython",
    "version": 3
   },
   "file_extension": ".py",
   "mimetype": "text/x-python",
   "name": "python",
   "nbconvert_exporter": "python",
   "pygments_lexer": "ipython3",
   "version": "3.12.3"
  }
 },
 "nbformat": 4,
 "nbformat_minor": 2
}
