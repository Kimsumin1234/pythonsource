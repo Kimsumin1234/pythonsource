{
 "cells": [
  {
   "cell_type": "markdown",
   "metadata": {},
   "source": [
    "### 파이썬 기본 라이브러리 사용\n",
    "- urllib 이용\n",
    "    - request : 요청"
   ]
  },
  {
   "cell_type": "code",
   "execution_count": 1,
   "metadata": {},
   "outputs": [],
   "source": [
    "import urllib.request as req"
   ]
  },
  {
   "cell_type": "code",
   "execution_count": 2,
   "metadata": {},
   "outputs": [
    {
     "name": "stdout",
     "output_type": "stream",
     "text": [
      "file1 {} ./download/google.html\n",
      "header1 {} Date: Wed, 22 May 2024 03:40:46 GMT\n",
      "Expires: -1\n",
      "Cache-Control: private, max-age=0\n",
      "Content-Type: text/html; charset=EUC-KR\n",
      "Content-Security-Policy-Report-Only: object-src 'none';base-uri 'self';script-src 'nonce-br9jmap1m1gH1hnc1KOZVA' 'strict-dynamic' 'report-sample' 'unsafe-eval' 'unsafe-inline' https: http:;report-uri https://csp.withgoogle.com/csp/gws/other-hp\n",
      "P3P: CP=\"This is not a P3P policy! See g.co/p3phelp for more info.\"\n",
      "Server: gws\n",
      "X-XSS-Protection: 0\n",
      "X-Frame-Options: SAMEORIGIN\n",
      "Set-Cookie: 1P_JAR=2024-05-22-03; expires=Fri, 21-Jun-2024 03:40:46 GMT; path=/; domain=.google.co.kr; Secure\n",
      "Set-Cookie: AEC=AQTF6HyieMNvb4mXu-cCKrwWrlMEpx0VgIN1yZr07uwauA4Dbba9FhMXKqU; expires=Mon, 18-Nov-2024 03:40:46 GMT; path=/; domain=.google.co.kr; Secure; HttpOnly; SameSite=lax\n",
      "Set-Cookie: NID=514=BwtNyQhPSRpwJwv-0ILE7VRhd-I29UsuBrBA1paiETOqGCmgpcjtn6a4vQHtygPBIAHotYNCwfhShJBiQC7as8_EKGE-RmLt1HQdsdL2YJgRHyrDj60_qJEVuc_zZJdPqWB-cq3WuLp-YgJDUdIsqAYBrWNSoGplbuDOr8JHje4; expires=Thu, 21-Nov-2024 03:40:46 GMT; path=/; domain=.google.co.kr; HttpOnly\n",
      "Alt-Svc: h3=\":443\"; ma=2592000,h3-29=\":443\"; ma=2592000\n",
      "Accept-Ranges: none\n",
      "Vary: Accept-Encoding\n",
      "Connection: close\n",
      "Transfer-Encoding: chunked\n",
      "\n",
      "\n"
     ]
    }
   ],
   "source": [
    "# 주소를 치고 들어가면 Elements 에 코드가 들어와서 브라우저 화면에 보여주는 작업을 파이썬으로 해본것\n",
    "\n",
    "url = \"https://www.google.co.kr/\"\n",
    "\n",
    "save_path = \"./download/google.html\"\n",
    "\n",
    "# urlretrieve(요청주소,저장할파일이름) : 요청하는 주소에 정보를 로컬 파일로 저장 해주는 함수\n",
    "#                                        튜플로 결과를 리턴해주기 때문에 file1, header1 로 나눠서 결과를 받음\n",
    "#                                        csv 파일, api 데이터 요청 시 사용\n",
    "\n",
    "file1, header1 = req.urlretrieve(url,save_path)\n",
    "print(\"file1 {}\",file1)\n",
    "print(\"header1 {}\",header1)"
   ]
  },
  {
   "cell_type": "code",
   "execution_count": 3,
   "metadata": {},
   "outputs": [],
   "source": [
    "# img_url : 사이트에 있는 이미지 우클릭해서 이미지 링크 복사한것\n",
    "\n",
    "img_url = \"https://search.pstatic.net/common/?src=http%3A%2F%2Fblogfiles.naver.net%2FMjAyMzEyMjdfMTA1%2FMDAxNzAzNjYyMjg4MDQz.sJvE_4lC7aSvn2qNjDFqck8-QvTYqEjjFQ4Wy-idGNQg.51a80329ezIx2HeuIMF2C44V5mkqzWj_vfntWtvzELcg.JPEG.animalandhuman%2FGettyImages-491143647.jpg&type=a340\"\n",
    "html_url = \"https://www.naver.com\"\n",
    "\n",
    "img_save_path = \"./download/cat.png\"\n",
    "html_save_path = \"./download/naver.html\"\n",
    "\n",
    "file1, header1 = req.urlretrieve(img_url,img_save_path)\n",
    "file2, header2 = req.urlretrieve(html_url,html_save_path)\n"
   ]
  },
  {
   "cell_type": "code",
   "execution_count": 5,
   "metadata": {},
   "outputs": [
    {
     "name": "stdout",
     "output_type": "stream",
     "text": [
      "<?xml version=\"1.0\" encoding=\"utf-8\" ?>\n",
      "<rss version=\"2.0\">\n",
      "<channel>\n",
      "<title>기상청 육상 중기예보</title>\n",
      "<link>http://www.kma.go.kr/weather/forecast/mid-term_02.jsp</link>\n",
      "<description>기상청 날씨 웹서비스</description>\n",
      "<language>ko</language>\n",
      "<generator>기상청</generator>\n",
      "<pubDate>2024년 05월 22일 (수)요일 06:00</pubDate>\n",
      " <item>\n",
      "<author>기상청</author>\n",
      "<category>육상중기예보</category>\n",
      "<title>서울,경기도 육상 중기예보 - 2024년 05월 22일 (수)요일 06:00 발표</title>\n",
      "<link>http://www.kma.go.kr/weather/forecast/mid-term_02.jsp</link>\n",
      "<guid>http://www.kma.go.kr/weather/forecast/mid-term_02.jsp</guid>\n",
      "<description>\n",
      "\t<header>\n",
      "\t\t<title>서울,경기도 육상중기예보</title>\n",
      "\t\t<tm>202405220600</tm>\n",
      "\t\t<wf><![CDATA[○ (강수) 26일(일) 오후~27일(월) 오전에 비가 오겠습니다.<br />○ (기온) 아침 기온은 13~18도로 평년(최저기온 12~16도)과 비슷하거나 조금 높겠습니다.<br />          낮 기온은 27일(월)에 20~24도로 평년(최고기온 23~26도)보다 낮겠고, 그 밖의 날은 22~27도로 평년(최고기온 23~27도)과 비슷하겠습니다.<br />○ (해상) 서해중부해상의 물결은 27일(월)에 1.0~2.5m로 조금 높게 일겠고, 그 밖의 날은 0.5~2.0m로 일겠습니다.<br />○ (주말전망) 25일(토)은 구름많겠고, 26일(일)은 구름많다가 오후에 흐리고 비가 오겠습니\n"
     ]
    }
   ],
   "source": [
    "# weather_url : 기상청 날씨누리 홈페이지 들어가서 하단에 RSS 들어가서 서울경기도 RSS 주소 복사해옴\n",
    "\n",
    "weather_url =\"http://www.kma.go.kr/weather/forecast/mid-term-rss3.jsp?stnId=109\"\n",
    "\n",
    "# urlopen(요청주소) : 메모리에 사이트 내용을 올려놓고 분석만 하는 경우 사용 (굳이 다운로드까지 안하고 읽기만 필요한 경우)\n",
    "\n",
    "data = req.urlopen(weather_url).read()\n",
    "\n",
    "data = data.decode(\"utf-8\")\n",
    "\n",
    "print(data[:1000]) # b' 바이트 코드 (decode 사용하면 제대로 나옴)"
   ]
  },
  {
   "cell_type": "code",
   "execution_count": 7,
   "metadata": {},
   "outputs": [
    {
     "name": "stdout",
     "output_type": "stream",
     "text": [
      "\n",
      "<!DOCTYPE HTML PUBLIC \"-//W3C//DTD HTML 4.01 Transitional//EN\" \"http://www.w3.org/TR/html4/loose.dtd\">\n",
      "\n",
      "\n",
      "\n",
      "\n",
      "<html lang=\"ko\">\n",
      "<head>\n",
      "\n",
      "<title>11번가 베스트 | 11번가</title>\n",
      "<meta name=\"Title\" content=\"11번가 베스트 | 11번가\">\n",
      "<meta name=\"Description\" content=\" 베스트! 다른 사람들은 지금 뭘 살까? 11번가 추천하는 실시간  베스트 아이템 순위!\">\n",
      "<meta name=\"Keywords\" content=\" | 11번가\">\n",
      "<meta http-equiv=\"Content-Type\" content=\"text/html; charset=euc-kr\">\n",
      "<meta http-equiv=\"X-UA-Compatible\" content=\"IE=edge\">\n",
      "<link rel=\"canonical\" href=\"//www.11st.co.kr/browsing/BestSeller.tmall?method=getBestSellerMain&#38;xfrom=main^gnb\"/><link rel=\"alternate\" media=\"only screen and (max-width: 640px)\" href=\"//m.11st.co.kr/page/main/rank\"/>\n",
      "\n",
      "\n",
      "\n",
      "<script type=\"text/javascript\" src=\"//c.011st.com/html/experiment/experimentMetaInfo.js\"></script>\n",
      "\n",
      "<script type=\"text/javascript\" src=\"//c.011st.com/js/plab/plab-web-sdk-0.9.1.min.js\"></script>\n",
      "\n",
      "<script>\n",
      "\n",
      "    var plabPageKey = '/best200/category';\n",
      "    try{\n",
      "\n",
      "        var params = {\n",
      "            projectKey : \"11st_web\n"
     ]
    }
   ],
   "source": [
    "# 11번가 사이트 크롤링\n",
    "\n",
    "url =\"https://www.11st.co.kr/browsing/BestSeller.tmall?method=getBestSellerMain&xfrom=main^gnb\"\n",
    "\n",
    "data = req.urlopen(url).read()\n",
    "\n",
    "# UnicodeDecodeError: 'utf-8' => utf-8 로 인코딩을 안하는경우 생기는 에러\n",
    "data = data.decode(\"euc-kr\")\n",
    "\n",
    "print(data[:1000]) # 다 읽어오면 길어서 [:1000] 까지 줄임"
   ]
  },
  {
   "cell_type": "code",
   "execution_count": 9,
   "metadata": {},
   "outputs": [
    {
     "name": "stdout",
     "output_type": "stream",
     "text": [
      "type : <class 'http.client.HTTPResponse'>\n",
      "url : https://www.11st.co.kr/browsing/BestSeller.tmall?method=getBestSellerMain&xfrom=main^gnb\n",
      "status : 200\n",
      "header : [('Date', 'Wed, 22 May 2024 04:08:15 GMT'), ('Content-Type', 'text/html;charset=EUC-KR'), ('Transfer-Encoding', 'chunked'), ('Set-Cookie', 'JSESSIONID=0B2476F8D4EAA22C32841CE4A10BE31A.Tomcat; Path=/; HttpOnly'), ('Access-Control-Allow-Credentials', 'true'), ('Connection', 'close'), ('Server', 'nginx')]\n",
      "\n",
      "<!DOCTYPE HTML PUBLIC \"-//W3C//DTD HTML 4.01 Transitional//EN\" \"http://www.w3.org/TR/html4/loose.dtd\">\n",
      "\n",
      "\n",
      "\n",
      "\n",
      "<html lang=\"ko\">\n",
      "<head>\n",
      "\n",
      "<title>11번가 베스트 | 11번가</title>\n",
      "<meta name=\"Title\" content=\"11번가 베스트 | 11번가\">\n",
      "<meta name=\"Description\" content=\" 베스트! 다른 사람들은 지금 뭘 살까? 11번가 추천하는 실시간  베스트 아이템 순위!\">\n",
      "<meta name=\"Keywords\" content=\" | 11번가\">\n",
      "<meta http-equiv=\"Content-Type\" content=\"text/html; charset=euc-kr\">\n",
      "<meta http-equiv=\"X-UA-Compatible\" content=\"IE=edge\">\n",
      "<link rel=\"canonical\" href=\"//www.11st.co.kr/browsing/BestSeller.tmall?method=getBestSellerMain&#38;xfrom=main^gnb\"/><link rel=\"alternate\" media=\"only screen and (max-width: 640px)\" href=\"//m.11st.co.kr/page/main/rank\"/>\n",
      "\n",
      "\n",
      "\n",
      "<script type=\"text/javascript\" src=\"//c.011st.com/html/experiment/experimentMetaInfo.js\"></script>\n",
      "\n",
      "<script type=\"text/javascript\" src=\"//c.011st.com/js/plab/plab-web-sdk-0.9.1.min.js\"></script>\n",
      "\n",
      "<script>\n",
      "\n",
      "    var plabPageKey = '/best200/category';\n",
      "    try{\n",
      "\n",
      "        var params = {\n",
      "            projectKey : \"11st_web\n"
     ]
    }
   ],
   "source": [
    "url =\"https://www.11st.co.kr/browsing/BestSeller.tmall?method=getBestSellerMain&xfrom=main^gnb\"\n",
    "\n",
    "# Exception 이 발생할수 있어서 예외처리 함\n",
    "try:\n",
    "    response = req.urlopen(url)\n",
    "\n",
    "    print(\"type : {}\".format(type(response))) # <class 'http.client.HTTPResponse'> 타입은 class class명은 HTTPResponse이다\n",
    "    print(\"url : {}\".format(response.geturl()))\n",
    "    print(\"status : {}\".format(response.status))\n",
    "    print(\"header : {}\".format(response.getheaders()))\n",
    "\n",
    "    cotents = response.read().decode(\"euc-kr\")\n",
    "except Exception as e:\n",
    "    print(e)\n",
    "else:\n",
    "    print(cotents[:1000])"
   ]
  },
  {
   "cell_type": "code",
   "execution_count": null,
   "metadata": {},
   "outputs": [],
   "source": [
    "# 위에 이미지 다운받은 코드 를 정리\n",
    "\n",
    "urls = [\"https://search.pstatic.net/common/?src=http%3A%2F%2Fblogfiles.naver.net%2FMjAyMzEyMjdfMTA1%2FMDAxNzAzNjYyMjg4MDQz.sJvE_4lC7aSvn2qNjDFqck8-QvTYqEjjFQ4Wy-idGNQg.51a80329ezIx2HeuIMF2C44V5mkqzWj_vfntWtvzELcg.JPEG.animalandhuman%2FGettyImages-491143647.jpg&type=a340\",\n",
    "        \"https://www.naver.com\"]\n",
    "\n",
    "paths = [\"./download/cat.png\",\"./download/naver.html\"]\n",
    "\n",
    "for idx, url in enumerate(urls):\n",
    "    try:\n",
    "        response = req.urlopen(url)\n",
    "        cotents = response.read()\n",
    "\n",
    "        # 파일저장\n",
    "\n",
    "    except Exception as e:\n",
    "        print(e)\n",
    "    else:\n",
    "        print(\"성공\")\n",
    "        "
   ]
  }
 ],
 "metadata": {
  "kernelspec": {
   "display_name": "venv",
   "language": "python",
   "name": "python3"
  },
  "language_info": {
   "codemirror_mode": {
    "name": "ipython",
    "version": 3
   },
   "file_extension": ".py",
   "mimetype": "text/x-python",
   "name": "python",
   "nbconvert_exporter": "python",
   "pygments_lexer": "ipython3",
   "version": "3.12.3"
  }
 },
 "nbformat": 4,
 "nbformat_minor": 2
}
