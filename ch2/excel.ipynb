{
 "cells": [
  {
   "cell_type": "markdown",
   "metadata": {},
   "source": [
    "자바 - maven\n",
    "파이썬 - pip\n",
    "\n",
    "pip : 파이썬 모듈이나 패키지를 쉽게 설치할 수 있도록 도와주는 도구\n",
    "\n",
    "\n",
    "터미널 명령어\n",
    "\n",
    "1. 패키지 설치\n",
    "pip install 패키지명\n",
    ", 특정버전설치 : pip install 패키지명==1.0.4\n",
    "\n",
    "2. 패키지 업그레이드\n",
    "pip install --upgrade 패키지명\n",
    "\n",
    "3. 패키지 삭제\n",
    "pip uninstall 패키지명\n",
    "\n",
    "4. 설치된 패키지 확인\n",
    "pip list\n",
    "\n",
    "pip install openpyxl : 엑셀파일 패키지\n",
    "pip install Pillow : 이미지 패키지"
   ]
  },
  {
   "cell_type": "code",
   "execution_count": 1,
   "metadata": {},
   "outputs": [],
   "source": [
    "from openpyxl import Workbook\n",
    "# ModuleNotFoundError: No module named 'openpyxl' : pip 인식이 안되면 뜨는 에러\n",
    "# 만약 이게 인식이 안되면 직접 폴더 들어가서 venv 폴더 안에있는 파일을 다 날리고 venv 폴더 안에서 환경을 다시 잡는다\n",
    "# 명령 프롬프트 실행 E:\\source>pythonsource -m venv\n",
    "# E:\\source\\pythonsource\\Scripts>activate.bat\n",
    "# E:\\source\\pythonsource\\venv\\Scripts>pip install openpyxl\n",
    "# E:\\source\\pythonsource\\venv\\Scripts>pip install pillow\n",
    "\n",
    "wb = Workbook() # 새 워크북 생성\n",
    "ws = wb.active # 현재 활성화된 sheet 가져옴\n",
    "\n",
    "ws.title = \"시트1\"\n",
    "wb.save(\"./resource/sample.xlsx\")\n",
    "wb.close()"
   ]
  },
  {
   "cell_type": "code",
   "execution_count": 2,
   "metadata": {},
   "outputs": [],
   "source": [
    "# 시트 생성\n",
    "ws1 = wb.create_sheet()\n",
    "\n",
    "ws1.title = \"시트2\"\n",
    "\n",
    "ws1.sheet_properties.tabColor = \"ff66ff\"\n",
    "\n",
    "wb.save(\"./resource/sample.xlsx\")"
   ]
  },
  {
   "cell_type": "code",
   "execution_count": 4,
   "metadata": {},
   "outputs": [],
   "source": [
    "# index : 시트 위치 지정 \n",
    "ws1 = wb.create_sheet(title=\"급여명세\",index=2)\n",
    "\n",
    "# 시트 복사\n",
    "new_ws = wb[\"시트2\"] # 생성된 시트에 접근\n",
    "new_ws[\"A1\"] = \"Test\"\n",
    "target = wb.copy_worksheet(new_ws)\n",
    "target.title=\"Copied Sheet\"\n",
    "\n",
    "wb.save(\"./resource/sample.xlsx\")"
   ]
  },
  {
   "cell_type": "code",
   "execution_count": 5,
   "metadata": {},
   "outputs": [
    {
     "data": {
      "text/plain": [
       "['시트1', '시트2', '급여명세1', '급여명세', 'Copied Sheet', 'Copied Sheet1']"
      ]
     },
     "execution_count": 5,
     "metadata": {},
     "output_type": "execute_result"
    }
   ],
   "source": [
    "# 생성된 모든 시트명 가져오기\n",
    "wb.sheetnames"
   ]
  },
  {
   "cell_type": "code",
   "execution_count": 9,
   "metadata": {},
   "outputs": [
    {
     "name": "stdout",
     "output_type": "stream",
     "text": [
      "<Cell '시트1'.A1>\n",
      "1\n",
      "1\n",
      "6\n",
      "10\n"
     ]
    }
   ],
   "source": [
    "# 셀\n",
    "ws1 = wb[\"시트1\"]\n",
    "# 셀에 데이터 입력\n",
    "ws1[\"A1\"] = 1\n",
    "ws1[\"A2\"] = 2\n",
    "ws1[\"A3\"] = 3\n",
    "ws1[\"A4\"] = 4\n",
    "\n",
    "ws1[\"B1\"] = 5\n",
    "ws1[\"B2\"] = 6\n",
    "ws1[\"B3\"] = 7\n",
    "ws1[\"B4\"] = 8\n",
    "\n",
    "\n",
    "\n",
    "print(ws1[\"A1\"]) # 셀 정보 출력\n",
    "print(ws1[\"A1\"].value) # 셀 값 출력\n",
    "\n",
    "print(ws1.cell(row=1, column=1).value) # A1\n",
    "print(ws1.cell(row=2, column=2).value) # B2\n",
    "\n",
    "w = ws1.cell(row=1, column=3, value=10)\n",
    "print(w.value)\n",
    "\n",
    "wb.save(\"./resource/sample.xlsx\")\n"
   ]
  },
  {
   "cell_type": "code",
   "execution_count": 10,
   "metadata": {},
   "outputs": [],
   "source": [
    "# 1~100 사이의 임의의 숫자를 채우기\n",
    "import random\n",
    "\n",
    "wb = Workbook() # 새 워크북 생성\n",
    "ws = wb.active # 현재 활성화된 sheet 가져옴\n",
    "\n",
    "ws.title = \"시트1\"\n",
    "\n",
    "for i in range(1,11):\n",
    "    for y in range(1,11):\n",
    "        ws.cell(row=i, column=y, value=random.randint(1,100))\n",
    "\n",
    "wb.save(\"./resource/sample2.xlsx\")\n",
    "wb.close()\n"
   ]
  },
  {
   "cell_type": "code",
   "execution_count": 12,
   "metadata": {},
   "outputs": [
    {
     "name": "stdout",
     "output_type": "stream",
     "text": [
      "5 89 36 15 57 16 44 84 11 32 \n",
      "41 80 46 57 66 43 25 15 92 10 \n",
      "35 66 63 7 46 70 100 9 12 22 \n",
      "6 51 4 77 34 18 75 37 32 51 \n",
      "83 12 99 86 20 85 100 16 70 2 \n",
      "82 7 51 91 46 16 6 51 87 90 \n",
      "27 64 7 62 63 65 83 47 95 33 \n",
      "65 81 99 99 79 57 63 29 37 16 \n",
      "70 73 29 79 64 73 67 50 95 86 \n",
      "55 58 56 70 73 94 60 93 38 76 \n",
      "==================================================\n",
      "5 89 36 15 57 16 44 84 11 32 \n",
      "41 80 46 57 66 43 25 15 92 10 \n",
      "35 66 63 7 46 70 100 9 12 22 \n",
      "6 51 4 77 34 18 75 37 32 51 \n",
      "83 12 99 86 20 85 100 16 70 2 \n",
      "82 7 51 91 46 16 6 51 87 90 \n",
      "27 64 7 62 63 65 83 47 95 33 \n",
      "65 81 99 99 79 57 63 29 37 16 \n",
      "70 73 29 79 64 73 67 50 95 86 \n",
      "55 58 56 70 73 94 60 93 38 76 \n"
     ]
    }
   ],
   "source": [
    "# load_workbook : excel 파일 열기\n",
    "from openpyxl import load_workbook\n",
    "\n",
    "wb = load_workbook(\"./resource/sample2.xlsx\")\n",
    "\n",
    "# 워크시트 가져오기\n",
    "ws = wb.active # 처음에 열린거 가져오기\n",
    "\n",
    "# 셀 내용 가져오기\n",
    "# 행,열 을 알고있는 경우\n",
    "for i in range(1,11):\n",
    "    for y in range(1,11):\n",
    "        print(ws.cell(row=i, column=y).value,end=\" \")\n",
    "    print()\n",
    "\n",
    "print(\"=\"*50)\n",
    "\n",
    "# 모를 경우\n",
    "# max_row, max_column : 시트가 가지고 있는 행,열 개수 가져오기\n",
    "for i in range(1,ws.max_row+1):\n",
    "    for y in range(1,ws.max_column+1):\n",
    "        print(ws.cell(row=i, column=y).value,end=\" \")\n",
    "    print()"
   ]
  },
  {
   "cell_type": "code",
   "execution_count": 26,
   "metadata": {},
   "outputs": [
    {
     "name": "stdout",
     "output_type": "stream",
     "text": [
      "번호 영어 수학 \n",
      "1 39 20 \n",
      "2 44 19 \n",
      "3 92 46 \n",
      "4 10 33 \n",
      "5 45 15 \n",
      "6 55 82 \n",
      "7 88 46 \n",
      "8 93 2 \n",
      "9 50 9 \n",
      "10 80 64 \n",
      "번호 \n",
      "1 \n",
      "2 \n",
      "3 \n",
      "4 \n",
      "번호 1 2 3 4 \n",
      "영어 39 44 92 10 \n"
     ]
    }
   ],
   "source": [
    "wb = Workbook()\n",
    "ws = wb.active\n",
    "\n",
    "# 행삽입 : append\n",
    "ws.append([\"번호\",\"영어\",\"수학\"])\n",
    "\n",
    "\n",
    "for i in range(1,11):\n",
    "    ws.append([i,random.randint(1,100),random.randint(1,100)])\n",
    "\n",
    "# 컬럼 가져오기\n",
    "# 1) 컬럼 1개\n",
    "# col_B = ws[\"B\"]\n",
    "# print(col_B)\n",
    "\n",
    "# for cell in col_B:\n",
    "#     print(cell.value)\n",
    "# 2) 컬럼 여러개\n",
    "# cols = ws[\"B:C\"] # B열 ~ C열 까지\n",
    "# for c in cols:\n",
    "#     for cell in c:\n",
    "#         print(cell.value, end=\" \")\n",
    "#     print()\n",
    "\n",
    "# 행 가져오기\n",
    "# 1) 행 1개\n",
    "# row_title = ws[1]\n",
    "# for cell in row_title:\n",
    "#     print(cell.value)\n",
    "# 2) 행 여러개\n",
    "# row_range = ws[2:6]\n",
    "# for rows in row_range:\n",
    "#     for cell in rows:\n",
    "#         print(cell.value,end=\" \")\n",
    "#     print()\n",
    "# max_row : 행의 개수를 모를때 (max_column 도 동일)\n",
    "# row_range = ws[2:ws.max_row]\n",
    "# for rows in row_range:\n",
    "#     for cell in rows:\n",
    "#         print(cell.value,end=\" \")\n",
    "#     print()\n",
    "\n",
    "# tuple 로 묶어서 가져오기\n",
    "# for row in tuple(ws.rows):\n",
    "#     print(\"row : \",row[1].value)\n",
    "\n",
    "# for col in tuple(ws.columns):\n",
    "#     print(\"col : \",col[0].value)\n",
    "\n",
    "# 전체 row 가져오기\n",
    "for row in ws.iter_rows():\n",
    "    for cell in row:\n",
    "        print(cell.value, end=\" \")\n",
    "    print()\n",
    "# 특정 범위 row 지정 가능\n",
    "for row in ws.iter_rows(min_row=1,max_row=5,max_col=1):\n",
    "    for cell in row:\n",
    "        print(cell.value, end=\" \")\n",
    "    print()\n",
    "# col 도 가능하다\n",
    "for col in ws.iter_cols(min_row=1,max_row=5,max_col=2):\n",
    "    for cell in col:\n",
    "        print(cell.value, end=\" \")\n",
    "    print()\n",
    "\n",
    "wb.save(\"./resource/range.xlsx\")\n",
    "wb.close()"
   ]
  },
  {
   "cell_type": "code",
   "execution_count": null,
   "metadata": {},
   "outputs": [],
   "source": []
  }
 ],
 "metadata": {
  "kernelspec": {
   "display_name": "venv",
   "language": "python",
   "name": "python3"
  },
  "language_info": {
   "codemirror_mode": {
    "name": "ipython",
    "version": 3
   },
   "file_extension": ".py",
   "mimetype": "text/x-python",
   "name": "python",
   "nbconvert_exporter": "python",
   "pygments_lexer": "ipython3",
   "version": "3.12.3"
  }
 },
 "nbformat": 4,
 "nbformat_minor": 2
}
